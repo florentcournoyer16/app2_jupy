{
 "cells": [
  {
   "cell_type": "code",
   "execution_count": 1,
   "metadata": {},
   "outputs": [],
   "source": [
    "from IPython.display import Markdown, display\n",
    "from transistors import Transistor, NMOS, PMOS"
   ]
  },
  {
   "cell_type": "markdown",
   "metadata": {},
   "source": [
    "<div style=\"text-align: center;\">\n",
    "\n",
    "## Targeted Requirements\n",
    "\n",
    "<img src=\"two_stage_ota.png\" alt=\"Two Stage OTA\" width=\"500\"/>\n",
    "\n",
    "</div>\n"
   ]
  },
  {
   "cell_type": "code",
   "execution_count": 2,
   "metadata": {},
   "outputs": [],
   "source": [
    "VSS: float = 0\n",
    "VDD: float = 1.8\n",
    "power_dissipated_max: float = 1 * 10**-3\n",
    "\n",
    "slew_rate_min: float = 10 * 10**6\n",
    "load_capacitance: float = 1 * 10**-15\n",
    "\n",
    "open_circuit_gain_min: float = 5 * 10**3\n",
    "ouput_voltage_range_target: float = 1\n",
    "common_mode_voltage_input_min: float = 0.9\n",
    "common_mode_voltage_input_max: float = 1.5\n",
    "voltage_output_in_common_mode: float = VDD / 2\n",
    "\n",
    "band_width_min: float = 5 * 10**6\n",
    "phase_margin_min: float = 60\n",
    "\n",
    "minimal_lenght: float = 0.18 * 10**-6\n",
    "nominal_lenght: float = 10 * minimal_lenght"
   ]
  },
  {
   "cell_type": "markdown",
   "metadata": {},
   "source": [
    "<div style=\"text-align: center;\">\n",
    "\n",
    "## Simulation Values\n",
    "\n",
    "$$k_n^{'} = \\mu_n \\cdot C_{ox}$$\n",
    "\n",
    "$$k_p^{'} = \\mu_p \\cdot C_{ox}$$\n",
    "\n",
    "$$|V_{An}^{'}| = \\frac{V_{An}}{L_{min}}$$\n",
    "\n",
    "$$|V_{Ap}^{'}| = \\frac{V_{Ap}}{L_{min}}$$\n",
    "\n",
    "</div>\n"
   ]
  },
  {
   "cell_type": "code",
   "execution_count": 3,
   "metadata": {},
   "outputs": [],
   "source": [
    "nmos_transconductance_parameter = 215 * 10**-6\n",
    "nmos_early_voltage_slope = 30 / (3 * minimal_lenght) * 10**6\n",
    "\n",
    "pmos_transconductance_parameter = 50 * 10**-6\n",
    "pmos_early_voltage_slope = 16.5 / (3 * minimal_lenght)\n",
    "\n",
    "nmos_threshold_voltage = 0.5\n",
    "pmos_threshold_voltage = 0.5"
   ]
  },
  {
   "cell_type": "markdown",
   "metadata": {},
   "source": [
    "<div style=\"text-align: center;\">\n",
    "\n",
    "## Transistor declaration\n",
    "\n",
    "</div>\n"
   ]
  },
  {
   "cell_type": "code",
   "execution_count": 4,
   "metadata": {},
   "outputs": [],
   "source": [
    "nmos_instances = []\n",
    "pmos_instances = []\n",
    "for i in range(5):\n",
    "    nmos_instances.append(\n",
    "        NMOS(\n",
    "            transconductance_parameter=nmos_transconductance_parameter,\n",
    "            threshold_voltage=nmos_threshold_voltage,\n",
    "        )\n",
    "    )\n",
    "for i in range(3):\n",
    "    pmos_instances.append(\n",
    "        PMOS(\n",
    "            transconductance_parameter=pmos_transconductance_parameter,\n",
    "            threshold_voltage=pmos_threshold_voltage,\n",
    "        )\n",
    "    )\n",
    "\n",
    "Q5, Q7, Q8, Q1, Q2 = nmos_instances\n",
    "Q6, Q4, Q3 = pmos_instances"
   ]
  },
  {
   "cell_type": "markdown",
   "metadata": {},
   "source": [
    "<div style=\"text-align: center;\">\n",
    "\n",
    "## Compensation Capacitor $C_C$\n",
    "\n",
    "$$C_C = \\frac{2.2}{10} \\cdot C_{L}$$\n",
    "\n",
    "</div>\n"
   ]
  },
  {
   "cell_type": "code",
   "execution_count": 5,
   "metadata": {},
   "outputs": [
    {
     "data": {
      "text/markdown": [
       "$C_{C} = 2.2000000000000005e-16 \\text{F}$"
      ],
      "text/plain": [
       "<IPython.core.display.Markdown object>"
      ]
     },
     "metadata": {},
     "output_type": "display_data"
    }
   ],
   "source": [
    "compensation_capacitor = 2.2 / 10 * load_capacitance\n",
    "\n",
    "display(Markdown(f\"$C_{{C}} = {compensation_capacitor} \\\\text{{F}}$\"))"
   ]
  },
  {
   "cell_type": "markdown",
   "metadata": {},
   "source": [
    "<div style=\"text-align: center;\">\n",
    "\n",
    "## Current in $Q_5$\n",
    "\n",
    "$$I_{D5} = SR \\cdot C_C$$\n",
    "\n",
    "</div>\n"
   ]
  },
  {
   "cell_type": "code",
   "execution_count": 6,
   "metadata": {},
   "outputs": [
    {
     "data": {
      "text/markdown": [
       "$I_{D5} = 2.2000000000000007e-09 \\text{A}$"
      ],
      "text/plain": [
       "<IPython.core.display.Markdown object>"
      ]
     },
     "metadata": {},
     "output_type": "display_data"
    }
   ],
   "source": [
    "Q5.current = slew_rate_min * compensation_capacitor\n",
    "\n",
    "display(Markdown(f\"$I_{{D5}} = {Q5.current} \\\\text{{A}}$\"))"
   ]
  },
  {
   "cell_type": "markdown",
   "metadata": {},
   "source": [
    "<div style=\"text-align: center;\">\n",
    "\n",
    "## Curent in $Q_{1,2,3,4}$\n",
    "\n",
    "$$I_{D1,2,3,4} = \\frac{I_{D5}}{2}$$\n",
    "\n",
    "</div>\n"
   ]
  },
  {
   "cell_type": "code",
   "execution_count": 7,
   "metadata": {},
   "outputs": [
    {
     "data": {
      "text/markdown": [
       "$I_{D1,2,3,4} = 1.1000000000000003e-09 \\text{A}$"
      ],
      "text/plain": [
       "<IPython.core.display.Markdown object>"
      ]
     },
     "metadata": {},
     "output_type": "display_data"
    }
   ],
   "source": [
    "for transistor in [Q1, Q2, Q3, Q4]:\n",
    "    transistor.current = Q5.current / 2\n",
    "\n",
    "display(Markdown(f\"$I_{{D1,2,3,4}} = {transistor.current} \\\\text{{A}}$\"))"
   ]
  },
  {
   "cell_type": "markdown",
   "metadata": {},
   "source": [
    "<div style=\"text-align: center;\">\n",
    "\n",
    "## $V_{G1min}$\n",
    "\n",
    "$$V_{G1min} = V_{CMmin} = 0.9 \\text{V}$$\n",
    "\n",
    "### Cool Title 1\n",
    "\n",
    "$$V_{GD} \\leq V_{tn}$$\n",
    "\n",
    "$$V_{G} - V_{D} \\leq V_{tn}$$\n",
    "\n",
    "$$V_{G} \\leq V_{D} + V_{tn}$$\n",
    "\n",
    "### Cool Title 2\n",
    "\n",
    "$$V_{D1} = V_{SS} + V_{OV5} + V_{DS1}$$\n",
    "\n",
    "#### When $V_G$ is at its Minimum\n",
    "\n",
    "$$V_{DS1} = V_{OV1}$$\n",
    "\n",
    "$$V_{D1} = V_{SS} + V_{OV5} + V_{OV1}$$\n",
    "\n",
    "### Cool Title 4\n",
    "\n",
    "$$V_{G1min} = V_{SS} + V_{OV5} + V_{OV1} + V_{tn}$$\n",
    "\n",
    "</div>\n"
   ]
  },
  {
   "cell_type": "code",
   "execution_count": 8,
   "metadata": {},
   "outputs": [],
   "source": [
    "# relevant python code here"
   ]
  },
  {
   "cell_type": "markdown",
   "metadata": {},
   "source": [
    "<div style=\"text-align: center;\">\n",
    "\n",
    "## Transistor $Q_3$\n",
    "\n",
    "$$V_{G1max} = V_{CMmax} = 1.5 \\text{V}$$\n",
    "\n",
    "### Useful Identity A : Gate to Drain Voltage Requirement for Saturation\n",
    "\n",
    "$$V_{GD} \\leq V_{tn} $$\n",
    "\n",
    "$$V_{G} - V_{D} \\leq V_{tn}$$\n",
    "\n",
    "$$V_{G} \\leq V_{D} + V_{tn}$$\n",
    "\n",
    "### Useful Identity B : Fiding an Equation the Drain Voltage of $Q_1$\n",
    "\n",
    "$$V_{D1} = V_{DD} - V_{SG3}$$\n",
    "\n",
    "### Identity B into A\n",
    "\n",
    "$$V_{G1max} = V_{DD} - V_{SG3} + V_{tn}$$\n",
    "\n",
    "$$V_{SG3} = V_{DD} - V_{G1max} + V_{tn}$$\n",
    "\n",
    "</div>\n"
   ]
  },
  {
   "cell_type": "code",
   "execution_count": 9,
   "metadata": {},
   "outputs": [
    {
     "data": {
      "text/markdown": [
       "$V_{SG3} = 0.8 \\text{V}$"
      ],
      "text/plain": [
       "<IPython.core.display.Markdown object>"
      ]
     },
     "metadata": {},
     "output_type": "display_data"
    }
   ],
   "source": [
    "Q3.voltage_source_gate = VDD - common_mode_voltage_input_max + Q3.threshold_voltage\n",
    "\n",
    "display(Markdown(f\"$V_{{SG3}} = {Q3.voltage_source_gate} \\\\text{{V}}$\"))"
   ]
  },
  {
   "cell_type": "markdown",
   "metadata": {},
   "source": [
    "<div style=\"text-align: center;\">\n",
    "\n",
    "## Overdrive Voltage for $Q_3$\n",
    "\n",
    "$V_{OV3} = V_{SG3} - V_{t3}$\n",
    "\n",
    "</div>\n"
   ]
  },
  {
   "cell_type": "code",
   "execution_count": 10,
   "metadata": {},
   "outputs": [
    {
     "data": {
      "text/markdown": [
       "$V_{OV3} = 0.30000000000000004 \\text{V}$"
      ],
      "text/plain": [
       "<IPython.core.display.Markdown object>"
      ]
     },
     "metadata": {},
     "output_type": "display_data"
    }
   ],
   "source": [
    "Q3.overdrive_voltage = Q3.voltage_source_gate - Q3.threshold_voltage\n",
    "\n",
    "display(Markdown(f\"$V_{{OV3}} = {Q3.overdrive_voltage} \\\\text{{V}}$\"))"
   ]
  },
  {
   "cell_type": "markdown",
   "metadata": {},
   "source": [
    "<div style=\"text-align: center;\">\n",
    "\n",
    "## Isolating of the Width in the Current Equation\n",
    "\n",
    "### With channel lenght modulation\n",
    "\n",
    "$W = \\frac{2 I_{D} \\cdot L}{k_{x}^{'} \\cdot V_{OV}^2 (1 + \\frac{V_{DS}}{|V_{Ax}|})}$\n",
    "\n",
    "### Without Channel Lenght Modulation\n",
    "\n",
    "$W = \\frac{2 I_{D} \\cdot L}{k_{x}^{'} \\cdot V_{OV}^2}$\n",
    "\n",
    "</div>\n"
   ]
  },
  {
   "cell_type": "code",
   "execution_count": 11,
   "metadata": {},
   "outputs": [],
   "source": [
    "# add relevant code here (transistor.py functions ?)"
   ]
  },
  {
   "cell_type": "markdown",
   "metadata": {},
   "source": [
    "<div style=\"text-align: center;\">\n",
    "\n",
    "## $v_o$ range\n",
    "\n",
    "$$v_o = I_{D6} \\cdot (r_{o7} // r_{o6})$$\n",
    "\n",
    "</div>\n"
   ]
  },
  {
   "cell_type": "code",
   "execution_count": 12,
   "metadata": {},
   "outputs": [],
   "source": [
    "# put relevant code here"
   ]
  },
  {
   "cell_type": "markdown",
   "metadata": {},
   "source": [
    "<div style=\"text-align: center;\">\n",
    "\n",
    "## Open-loop Gain ($A_{v}$)\n",
    "\n",
    "$A_{v} = g_{m6} \\cdot g_{m2} \\cdot (r_{o2}//r_{o4}) \\cdot (r_{o6}//r_{o7})$\n",
    "\n",
    "</div>\n"
   ]
  },
  {
   "cell_type": "code",
   "execution_count": 13,
   "metadata": {},
   "outputs": [
    {
     "ename": "TypeError",
     "evalue": "unsupported operand type(s) for /: 'int' and 'NoneType'",
     "output_type": "error",
     "traceback": [
      "\u001b[1;31m---------------------------------------------------------------------------\u001b[0m",
      "\u001b[1;31mTypeError\u001b[0m                                 Traceback (most recent call last)",
      "Cell \u001b[1;32mIn[13], line 4\u001b[0m\n\u001b[0;32m      1\u001b[0m Av \u001b[38;5;241m=\u001b[39m (\n\u001b[0;32m      2\u001b[0m     Q6\u001b[38;5;241m.\u001b[39mtransconductance_parameter\n\u001b[0;32m      3\u001b[0m     \u001b[38;5;241m*\u001b[39m Q2\u001b[38;5;241m.\u001b[39mtransconductance_parameter\n\u001b[1;32m----> 4\u001b[0m     \u001b[38;5;241m*\u001b[39m ((\u001b[38;5;241m1\u001b[39m \u001b[38;5;241m/\u001b[39m (\u001b[38;5;241;43m1\u001b[39;49m\u001b[43m \u001b[49m\u001b[38;5;241;43m/\u001b[39;49m\u001b[43m \u001b[49m\u001b[43mQ2\u001b[49m\u001b[38;5;241;43m.\u001b[39;49m\u001b[43moutput_resistance\u001b[49m)) \u001b[38;5;241m+\u001b[39m (\u001b[38;5;241m1\u001b[39m \u001b[38;5;241m/\u001b[39m (\u001b[38;5;241m1\u001b[39m \u001b[38;5;241m/\u001b[39m Q4\u001b[38;5;241m.\u001b[39moutput_resistance)))\n\u001b[0;32m      5\u001b[0m     \u001b[38;5;241m*\u001b[39m ((\u001b[38;5;241m1\u001b[39m \u001b[38;5;241m/\u001b[39m (\u001b[38;5;241m1\u001b[39m \u001b[38;5;241m/\u001b[39m Q7\u001b[38;5;241m.\u001b[39moutput_resistance)) \u001b[38;5;241m+\u001b[39m (\u001b[38;5;241m1\u001b[39m \u001b[38;5;241m/\u001b[39m (\u001b[38;5;241m1\u001b[39m \u001b[38;5;241m/\u001b[39m Q6\u001b[38;5;241m.\u001b[39moutput_resistance)))\n\u001b[0;32m      6\u001b[0m )\n",
      "\u001b[1;31mTypeError\u001b[0m: unsupported operand type(s) for /: 'int' and 'NoneType'"
     ]
    }
   ],
   "source": [
    "Av = (\n",
    "    Q6.transconductance_parameter\n",
    "    * Q2.transconductance_parameter\n",
    "    * ((1 / (1 / Q2.output_resistance)) + (1 / (1 / Q4.output_resistance)))\n",
    "    * ((1 / (1 / Q7.output_resistance)) + (1 / (1 / Q6.output_resistance)))\n",
    ")"
   ]
  }
 ],
 "metadata": {
  "kernelspec": {
   "display_name": "Python 3",
   "language": "python",
   "name": "python3"
  },
  "language_info": {
   "codemirror_mode": {
    "name": "ipython",
    "version": 3
   },
   "file_extension": ".py",
   "mimetype": "text/x-python",
   "name": "python",
   "nbconvert_exporter": "python",
   "pygments_lexer": "ipython3",
   "version": "3.8.10"
  }
 },
 "nbformat": 4,
 "nbformat_minor": 2
}
